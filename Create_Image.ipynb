{
 "cells": [
  {
   "cell_type": "markdown",
   "id": "a4ba6827-05ab-487d-868d-d19640cd093b",
   "metadata": {},
   "source": [
    "### Import packages"
   ]
  },
  {
   "cell_type": "code",
   "execution_count": 2,
   "id": "83e01e16-901d-4a20-9f36-c434eb382f6b",
   "metadata": {},
   "outputs": [],
   "source": [
    "import numpy as np"
   ]
  },
  {
   "cell_type": "code",
   "execution_count": 1,
   "id": "4192d46f-136d-42ec-abf9-699307cc7611",
   "metadata": {},
   "outputs": [],
   "source": [
    "from PIL import Image"
   ]
  },
  {
   "cell_type": "markdown",
   "id": "4c511b1f-aa2e-4445-ae41-08d10a85f83d",
   "metadata": {},
   "source": [
    "### Helper code"
   ]
  },
  {
   "cell_type": "code",
   "execution_count": 32,
   "id": "e0f8ca7f-2622-4ed8-9827-674781923453",
   "metadata": {},
   "outputs": [],
   "source": [
    "def make_array(f, x, y):\n",
    "    data = [[f(i, j) for i in range(x)] for j in range(y)]\n",
    "    return np.array(data, dtype='uint8')"
   ]
  },
  {
   "cell_type": "code",
   "execution_count": 27,
   "id": "99ee06b6-42d8-45eb-a6d0-11551c457e86",
   "metadata": {},
   "outputs": [],
   "source": [
    "def make_image(f, x, y):\n",
    "    grid = make_array(f, x, y)\n",
    "    return Image.fromarray(grid, \"RGB\")"
   ]
  },
  {
   "cell_type": "markdown",
   "id": "7b9689cb-98c8-4103-a61b-97561fb2aee2",
   "metadata": {},
   "source": [
    "### Make Images Here"
   ]
  },
  {
   "cell_type": "markdown",
   "id": "d6777c18-472f-4164-b02f-50daff5b37e3",
   "metadata": {},
   "source": [
    "#### Example"
   ]
  },
  {
   "cell_type": "code",
   "execution_count": 43,
   "id": "f0a18026-60b9-4410-afa8-f3af7253be1e",
   "metadata": {},
   "outputs": [],
   "source": [
    "# Define a function which has two arguments, x and y,\n",
    "# and which returns a list of three whole numbers between 0 and 255\n",
    "\n",
    "def always_turquoise(x, y):\n",
    "    return [0, 255, 255]"
   ]
  },
  {
   "cell_type": "code",
   "execution_count": 44,
   "id": "c5c658d7-f7e2-4ad7-9dc0-44785f1b8ef2",
   "metadata": {},
   "outputs": [
    {
     "data": {
      "image/png": "[encoded data removed]",
      "text/plain": [
       "<PIL.Image.Image image mode=RGB size=400x400 at 0x7F30F80AD6D0>"
      ]
     },
     "execution_count": 44,
     "metadata": {},
     "output_type": "execute_result"
    }
   ],
   "source": [
    "# Call make_image\n",
    "# The first argument is the function.\n",
    "# The second and third arguments are the width and height of the image.\n",
    "\n",
    "make_image(always_turquoise, 400, 400)"
   ]
  },
  {
   "cell_type": "markdown",
   "id": "b49480d4-ea90-464c-b273-f0ab2366c4a6",
   "metadata": {},
   "source": [
    "#### Another example"
   ]
  },
  {
   "cell_type": "code",
   "execution_count": 41,
   "id": "cb2c8d4b-c2f1-464e-ae1a-bad8768879ac",
   "metadata": {},
   "outputs": [],
   "source": [
    "def single_stripe(x, y):\n",
    "    if 180 < x < 220:\n",
    "        return [0, 255, 0]\n",
    "    else:\n",
    "        return [255, 0, 0]"
   ]
  },
  {
   "cell_type": "code",
   "execution_count": 42,
   "id": "75e69293-199d-4613-94c1-02889527c21a",
   "metadata": {},
   "outputs": [
    {
     "data": {
      "image/png": "[encoded data removed]",
      "text/plain": [
       "<PIL.Image.Image image mode=RGB size=400x400 at 0x7F3120382990>"
      ]
     },
     "execution_count": 42,
     "metadata": {},
     "output_type": "execute_result"
    }
   ],
   "source": [
    "make_image(single_stripe, 400, 400)"
   ]
  },
  {
   "cell_type": "code",
   "execution_count": null,
   "id": "8943ea4d-fda7-40d3-aea3-ea8d1bc51ba1",
   "metadata": {},
   "outputs": [],
   "source": []
  }
 ],
 "metadata": {
  "kernelspec": {
   "display_name": "Python 3 (ipykernel)",
   "language": "python",
   "name": "python3"
  },
  "language_info": {
   "codemirror_mode": {
    "name": "ipython",
    "version": 3
   },
   "file_extension": ".py",
   "mimetype": "text/x-python",
   "name": "python",
   "nbconvert_exporter": "python",
   "pygments_lexer": "ipython3",
   "version": "3.7.12"
  }
 },
 "nbformat": 4,
 "nbformat_minor": 5
}
